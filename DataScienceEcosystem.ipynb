{
 "cells": [
  {
   "cell_type": "markdown",
   "id": "b72f12e0-20e4-4197-ae9a-03dc268d5e2b",
   "metadata": {},
   "source": [
    "# Data Science Tools and Ecosystem"
   ]
  },
  {
   "cell_type": "markdown",
   "id": "76c1396b-6beb-4367-be4d-dcbd3d204516",
   "metadata": {},
   "source": [
    "## In this notebook, Data Science Tools and Ecosystem are summarized."
   ]
  },
  {
   "cell_type": "markdown",
   "id": "867f8eb7-2fb0-4a55-a306-cdcaa7d358d5",
   "metadata": {},
   "source": [
    "**Objectives:**\n",
    "- List popular languages for Data Science\n",
    "- Practice some languages\n",
    "- Using data visualisation in R"
   ]
  },
  {
   "cell_type": "markdown",
   "id": "42ad06b5-5a62-43e1-8e7c-6f21dd9f2b2d",
   "metadata": {},
   "source": [
    "## Some of the popular languages that Data Scientists use are:"
   ]
  },
  {
   "cell_type": "markdown",
   "id": "b568d440-d7e7-4135-acf7-d2557564d81e",
   "metadata": {},
   "source": [
    "**ordered list**\n",
    "1.R\n",
    "2.Python\n",
    "3.SQL"
   ]
  },
  {
   "cell_type": "markdown",
   "id": "cf9d6d3f-90c6-492d-a5c0-4311651adac9",
   "metadata": {},
   "source": [
    "## Some of the commonly used libraries used by Data Scientists include:\n",
    "**ordered list**\n",
    "- dplyr\n",
    "- caret\n",
    "- ggplot"
   ]
  },
  {
   "cell_type": "markdown",
   "id": "977a04af-3c64-4ab4-a345-b463f5e49149",
   "metadata": {},
   "source": [
    "|Data Science Tools|\n",
    "|------------------|\n",
    "|  Git             |\n",
    "|  Anaconda        |\n",
    "|  VSCode          |"
   ]
  },
  {
   "cell_type": "markdown",
   "id": "79c1febd-5629-4ba5-9364-c8e06f352f2c",
   "metadata": {},
   "source": [
    "### Below are a few examples of evaluating arithmetic expressions in Python"
   ]
  },
  {
   "cell_type": "code",
   "execution_count": 2,
   "id": "b85a1440-d335-4dab-937a-4713849d672f",
   "metadata": {},
   "outputs": [
    {
     "data": {
      "text/plain": [
       "17"
      ]
     },
     "execution_count": 2,
     "metadata": {},
     "output_type": "execute_result"
    }
   ],
   "source": [
    "#This a simple arithmetic expression to mutiply then add integers\n",
    "(3*4)+5"
   ]
  },
  {
   "cell_type": "code",
   "execution_count": 3,
   "id": "a7f48eca-d43b-4900-bcda-d1f1299c79b2",
   "metadata": {},
   "outputs": [
    {
     "data": {
      "text/plain": [
       "3.3333333333333335"
      ]
     },
     "execution_count": 3,
     "metadata": {},
     "output_type": "execute_result"
    }
   ],
   "source": [
    "#This will convert 200 minutes to hours by diving by 60\n",
    "200/60\n"
   ]
  },
  {
   "cell_type": "markdown",
   "id": "4323f4c5-0a7f-41f4-a343-3cbfcb43db26",
   "metadata": {},
   "source": [
    "## Author\n",
    "Susana Lopez Clemente"
   ]
  },
  {
   "cell_type": "code",
   "execution_count": null,
   "id": "6d899f39-5511-430e-abc2-77219ce1c5f1",
   "metadata": {},
   "outputs": [],
   "source": []
  }
 ],
 "metadata": {
  "kernelspec": {
   "display_name": "Python 3 (ipykernel)",
   "language": "python",
   "name": "python3"
  },
  "language_info": {
   "codemirror_mode": {
    "name": "ipython",
    "version": 3
   },
   "file_extension": ".py",
   "mimetype": "text/x-python",
   "name": "python",
   "nbconvert_exporter": "python",
   "pygments_lexer": "ipython3",
   "version": "3.13.1"
  }
 },
 "nbformat": 4,
 "nbformat_minor": 5
}
